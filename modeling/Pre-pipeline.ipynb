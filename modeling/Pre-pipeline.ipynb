{
 "cells": [
  {
   "cell_type": "code",
   "execution_count": 55,
   "metadata": {
    "collapsed": false
   },
   "outputs": [],
   "source": [
    "import sklearn\n",
    "import pandas as pd\n",
    "import numpy as np\n",
    "from sqlalchemy import create_engine\n",
    "from matplotlib import pyplot as plt\n",
    "from sklearn import cross_validation, ensemble, metrics\n",
    "% matplotlib inline"
   ]
  },
  {
   "cell_type": "code",
   "execution_count": null,
   "metadata": {
    "collapsed": false
   },
   "outputs": [],
   "source": [
    "dbcreds = {}\n",
    "with open('dbconfig.profile') as f:\n",
    "    for line in f.readlines():\n",
    "        row = line.split(\" \")[1].split(\"=\")\n",
    "        dbcreds[row[0]] = row[1].strip()\n",
    "\n",
    "engine = create_engine('postgresql://{}:{}@{}/{}'.format(\n",
    "              dbcreds['PGUSER'], dbcreds['PGPASSWORD'],\n",
    "              dbcreds['PGHOST'], dbcreds['PGDATABASE']))"
   ]
  },
  {
   "cell_type": "markdown",
   "metadata": {},
   "source": [
    "Note this is for demonstration of a machine learning workflow where the features are grabbed directly from the database and then machine learning and evaluation is performed using `scikit-learn`. Results look suspiciously good (for a three feature model with no model selection or hyperparameter optimization) because the base rate in the testing set is artificially high. We oversample the SD class for training and I have not rebalanced the testing set to reflect reality (we also don't know the base rate in reality but that's a story for another day). "
   ]
  },
  {
   "cell_type": "markdown",
   "metadata": {},
   "source": [
    "# Feature Extraction"
   ]
  },
  {
   "cell_type": "markdown",
   "metadata": {},
   "source": [
    "Grab features and the label from database:"
   ]
  },
  {
   "cell_type": "code",
   "execution_count": 26,
   "metadata": {
    "collapsed": false
   },
   "outputs": [],
   "source": [
    "labelled_query = ('select t1.*, t3.is_sd from features.frontpage_features t1 '\n",
    "                   'inner join raw.frontpage_examples t2 '\n",
    "                   'on t1.exampleid = t2.exampleid '\n",
    "                   'inner join raw.hs_history t3 '\n",
    "                   'on t3.hsid = t2.hsid')\n",
    "\n",
    "df = pd.read_sql(labelled_query, engine)"
   ]
  },
  {
   "cell_type": "code",
   "execution_count": 28,
   "metadata": {
    "collapsed": false
   },
   "outputs": [
    {
     "data": {
      "text/plain": [
       "Index(['exampleid', 'total_number_of_cells', 'total_number_of_incoming_cells',\n",
       "       'total_number_of_outgoing_cells', 'is_sd'],\n",
       "      dtype='object')"
      ]
     },
     "execution_count": 28,
     "metadata": {},
     "output_type": "execute_result"
    }
   ],
   "source": [
    "df.columns"
   ]
  },
  {
   "cell_type": "markdown",
   "metadata": {},
   "source": [
    "x will be our feature set:"
   ]
  },
  {
   "cell_type": "code",
   "execution_count": 29,
   "metadata": {
    "collapsed": true
   },
   "outputs": [],
   "source": [
    "x = df[['total_number_of_cells', 'total_number_of_incoming_cells', 'total_number_of_outgoing_cells']]"
   ]
  },
  {
   "cell_type": "markdown",
   "metadata": {},
   "source": [
    "y will be our label:"
   ]
  },
  {
   "cell_type": "code",
   "execution_count": 32,
   "metadata": {
    "collapsed": true
   },
   "outputs": [],
   "source": [
    "y = df['is_sd'].astype(int)"
   ]
  },
  {
   "cell_type": "markdown",
   "metadata": {},
   "source": [
    "Let's split our data into train and test sets using http://scikit-learn.org/stable/modules/generated/sklearn.cross_validation.train_test_split.html:"
   ]
  },
  {
   "cell_type": "code",
   "execution_count": 38,
   "metadata": {
    "collapsed": false
   },
   "outputs": [],
   "source": [
    "x_train, x_test, y_train, y_test = cross_validation.train_test_split(x, y, test_size=0.33)"
   ]
  },
  {
   "cell_type": "markdown",
   "metadata": {},
   "source": [
    "# Training"
   ]
  },
  {
   "cell_type": "markdown",
   "metadata": {},
   "source": [
    "Use our training set to train a Random Forest model from http://scikit-learn.org/stable/modules/generated/sklearn.ensemble.RandomForestClassifier.html:"
   ]
  },
  {
   "cell_type": "code",
   "execution_count": 43,
   "metadata": {
    "collapsed": false
   },
   "outputs": [],
   "source": [
    "model = ensemble.RandomForestClassifier(n_estimators=10)\n",
    "model.fit(x_train, y_train)"
   ]
  },
  {
   "cell_type": "markdown",
   "metadata": {},
   "source": [
    "# Prediction"
   ]
  },
  {
   "cell_type": "markdown",
   "metadata": {},
   "source": [
    "Using the trained model, predict for the test set: "
   ]
  },
  {
   "cell_type": "code",
   "execution_count": 44,
   "metadata": {
    "collapsed": true
   },
   "outputs": [],
   "source": [
    "y_predicted = model.predict_proba(x_test)"
   ]
  },
  {
   "cell_type": "markdown",
   "metadata": {},
   "source": [
    "# Evaluation"
   ]
  },
  {
   "cell_type": "markdown",
   "metadata": {},
   "source": [
    "See how well we performed:"
   ]
  },
  {
   "cell_type": "code",
   "execution_count": 47,
   "metadata": {
    "collapsed": false
   },
   "outputs": [],
   "source": [
    "prob_sd = y_predicted[:, 1]"
   ]
  },
  {
   "cell_type": "markdown",
   "metadata": {},
   "source": [
    "This array `prob_sd` contains the probability that the given trace is that of a user connecting to a SecureDrop instance:"
   ]
  },
  {
   "cell_type": "code",
   "execution_count": 61,
   "metadata": {
    "collapsed": false
   },
   "outputs": [
    {
     "data": {
      "text/plain": [
       "0.93825634352635001"
      ]
     },
     "execution_count": 61,
     "metadata": {},
     "output_type": "execute_result"
    }
   ],
   "source": [
    "fpr, tpr, thresholds = metrics.roc_curve(y_test, prob_sd, pos_label=1)\n",
    "metrics.auc(fpr, tpr)"
   ]
  },
  {
   "cell_type": "code",
   "execution_count": 71,
   "metadata": {
    "collapsed": false
   },
   "outputs": [
    {
     "data": {
      "text/plain": [
       "(array([ 0.        ,  0.00689655,  0.02068966,  0.02758621,  0.03448276,\n",
       "         0.04827586,  0.05517241,  0.09655172,  0.11034483,  0.14482759,\n",
       "         0.17931034,  0.22758621,  1.        ]),\n",
       " array([ 0.        ,  0.24528302,  0.39622642,  0.47169811,  0.47169811,\n",
       "         0.54716981,  0.64150943,  0.77358491,  0.8490566 ,  0.9245283 ,\n",
       "         0.96226415,  0.98113208,  1.        ]))"
      ]
     },
     "execution_count": 71,
     "metadata": {},
     "output_type": "execute_result"
    }
   ],
   "source": [
    "fpr, tpr"
   ]
  },
  {
   "cell_type": "markdown",
   "metadata": {},
   "source": [
    "## Confusion Matrix"
   ]
  },
  {
   "cell_type": "code",
   "execution_count": 94,
   "metadata": {
    "collapsed": false
   },
   "outputs": [
    {
     "data": {
      "image/png": "[encoded data removed]",
      "text/plain": [
       "<matplotlib.figure.Figure at 0x10c72f198>"
      ]
     },
     "metadata": {},
     "output_type": "display_data"
    }
   ],
   "source": [
    "def plot_confusion_matrix(cm, title='Confusion matrix', cmap=plt.cm.Blues):\n",
    "    plt.imshow(cm, interpolation='nearest', cmap=cmap)\n",
    "    plt.title(title)\n",
    "    plt.colorbar()\n",
    "    class_names = ['Not SD', 'SD']\n",
    "    tick_marks = np.arange(len(class_names))\n",
    "    plt.xticks(tick_marks, class_names, rotation=45)\n",
    "    plt.yticks(tick_marks, class_names)\n",
    "    plt.tight_layout()\n",
    "    plt.ylabel('True label')\n",
    "    plt.xlabel('Predicted label')\n",
    "\n",
    "def set_threshold(predictions, x_proportion):\n",
    "    cutoff_index = int(len(predictions) * x_proportion)\n",
    "    cutoff_index = min(cutoff_index, len(predictions) - 1)\n",
    "    sorted_by_probability = np.sort(predictions)[::-1]\n",
    "    cutoff_probability = sorted_by_probability[cutoff_index]\n",
    "    predictions_binary = [ 1 if x > cutoff_probability else 0 for x in predictions ]\n",
    "    return predictions_binary\n",
    "\n",
    "# Compute confusion matrix\n",
    "cm = metrics.confusion_matrix(y_test, set_threshold(prob_sd, 0.2))\n",
    "cm_normalized = cm.astype('float') / cm.sum(axis=1)[:, np.newaxis]\n",
    "np.set_printoptions(precision=2)\n",
    "plt.figure()\n",
    "plot_confusion_matrix(cm)"
   ]
  },
  {
   "cell_type": "markdown",
   "metadata": {},
   "source": [
    "## ROC (True positive rate v False positive rate)"
   ]
  },
  {
   "cell_type": "code",
   "execution_count": 66,
   "metadata": {
    "collapsed": true
   },
   "outputs": [],
   "source": [
    "def plot_ROC(test_labels, test_predictions):\n",
    "    fpr, tpr, thresholds = metrics.roc_curve(\n",
    "        test_labels, test_predictions, pos_label=1)\n",
    "    auc = \"%.2f\" % metrics.auc(fpr, tpr)\n",
    "    title = 'ROC Curve, AUC = '+str(auc)\n",
    "    with plt.style.context(('ggplot')):\n",
    "        fig, ax = plt.subplots()\n",
    "        ax.plot(fpr, tpr, \"#000099\", label='ROC curve')\n",
    "        ax.plot([0, 1], [0, 1], 'k--', label='Baseline')\n",
    "        plt.xlim([0.0, 1.0])\n",
    "        plt.ylim([0.0, 1.05])\n",
    "        plt.xlabel('False Positive Rate')\n",
    "        plt.ylabel('True Positive Rate')\n",
    "        plt.legend(loc='lower right')\n",
    "        plt.title(title)\n",
    "    return fig"
   ]
  },
  {
   "cell_type": "code",
   "execution_count": 70,
   "metadata": {
    "collapsed": false
   },
   "outputs": [
    {
     "data": {
      "image/png": "[encoded data removed]",
      "text/plain": [
       "<matplotlib.figure.Figure at 0x10be54358>"
      ]
     },
     "metadata": {},
     "output_type": "display_data"
    }
   ],
   "source": [
    "fig2 = plot_ROC(y_test, prob_sd)"
   ]
  },
  {
   "cell_type": "markdown",
   "metadata": {},
   "source": [
    "And one can read off this last plot to compare with TPR and FPR reported in literature. "
   ]
  }
 ],
 "metadata": {
  "kernelspec": {
   "display_name": "Python 3",
   "language": "python",
   "name": "python3"
  },
  "language_info": {
   "codemirror_mode": {
    "name": "ipython",
    "version": 3
   },
   "file_extension": ".py",
   "mimetype": "text/x-python",
   "name": "python",
   "nbconvert_exporter": "python",
   "pygments_lexer": "ipython3",
   "version": "3.5.2"
  }
 },
 "nbformat": 4,
 "nbformat_minor": 1
}
