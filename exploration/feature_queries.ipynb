{
 "cells": [
  {
   "cell_type": "code",
   "execution_count": 3,
   "metadata": {
    "collapsed": true
   },
   "outputs": [],
   "source": [
    "import sqlalchemy\n",
    "import pandas as pd\n",
    "import matplotlib.pyplot as plt\n",
    "import seaborn as sns\n",
    "%matplotlib inline\n",
    "plt.style.use('ggplot')\n",
    "\n",
    "import dbconfig as db\n",
    "\n",
    "engine = sqlalchemy.engine_from_config(db.config, prefix='db.')"
   ]
  },
  {
   "cell_type": "markdown",
   "metadata": {},
   "source": [
    "# Feature generation\n",
    "\n",
    "queries to pull out features to input to preprocessing\n",
    "\n",
    "## Duration of Activity"
   ]
  },
  {
   "cell_type": "code",
   "execution_count": 14,
   "metadata": {
    "collapsed": true
   },
   "outputs": [],
   "source": [
    "doa_feat = \"\"\"SELECT DISTINCT ON (exampleid)\n",
    "  last_value(t_trace) OVER wnd - first_value(t_trace) OVER wnd AS doa,\n",
    "  exampleid\n",
    " FROM raw.frontpage_traces\n",
    " WINDOW wnd AS (\n",
    "   PARTITION BY exampleid ORDER BY t_trace\n",
    "   ROWS BETWEEN UNBOUNDED PRECEDING AND UNBOUNDED FOLLOWING\n",
    " );\"\"\""
   ]
  },
  {
   "cell_type": "code",
   "execution_count": 15,
   "metadata": {
    "collapsed": true
   },
   "outputs": [],
   "source": [
    "df = pd.read_sql(doa_feat, engine)"
   ]
  },
  {
   "cell_type": "markdown",
   "metadata": {},
   "source": [
    "## Total number cells exchanged"
   ]
  },
  {
   "cell_type": "code",
   "execution_count": 16,
   "metadata": {
    "collapsed": true
   },
   "outputs": [],
   "source": [
    "num_cells = \"\"\"SELECT exampleid, count(distinct cellid) as num_cells\n",
    "FROM raw.frontpage_traces\n",
    "GROUP BY exampleid;\"\"\""
   ]
  },
  {
   "cell_type": "markdown",
   "metadata": {},
   "source": [
    "## Total number incoming and outgoing cells"
   ]
  },
  {
   "cell_type": "code",
   "execution_count": 17,
   "metadata": {
    "collapsed": true
   },
   "outputs": [],
   "source": [
    "num_incoming = \"\"\"SELECT exampleid, count(distinct cellid) AS num_incoming\n",
    "FROM raw.frontpage_traces\n",
    "WHERE ingoing = 't'\n",
    "GROUP BY exampleid;\n",
    "\"\"\"\n",
    "\n",
    "num_outgoing = \"\"\"SELECT exampleid, count(distinct cellid) AS num_outgoing\n",
    "FROM raw.frontpage_traces\n",
    "WHERE ingoing = 'f'\n",
    "GROUP BY exampleid;\n",
    "\"\"\""
   ]
  },
  {
   "cell_type": "markdown",
   "metadata": {},
   "source": [
    "## Overall ratio incoming/outgoing cells"
   ]
  },
  {
   "cell_type": "code",
   "execution_count": 6,
   "metadata": {
    "collapsed": true
   },
   "outputs": [],
   "source": []
  },
  {
   "cell_type": "markdown",
   "metadata": {},
   "source": [
    "## Traffic Bursts"
   ]
  },
  {
   "cell_type": "markdown",
   "metadata": {},
   "source": [
    "## Extract common sequences"
   ]
  },
  {
   "cell_type": "code",
   "execution_count": null,
   "metadata": {
    "collapsed": true
   },
   "outputs": [],
   "source": []
  }
 ],
 "metadata": {
  "kernelspec": {
   "display_name": "Python 3",
   "language": "python",
   "name": "python3"
  },
  "language_info": {
   "codemirror_mode": {
    "name": "ipython",
    "version": 3
   },
   "file_extension": ".py",
   "mimetype": "text/x-python",
   "name": "python",
   "nbconvert_exporter": "python",
   "pygments_lexer": "ipython3",
   "version": "3.5.0"
  }
 },
 "nbformat": 4,
 "nbformat_minor": 0
}
